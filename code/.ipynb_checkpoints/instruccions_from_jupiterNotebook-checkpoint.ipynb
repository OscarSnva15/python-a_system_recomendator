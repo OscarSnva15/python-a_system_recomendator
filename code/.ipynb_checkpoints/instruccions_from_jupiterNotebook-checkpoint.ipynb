{
 "cells": [
  {
   "cell_type": "code",
   "execution_count": 1,
   "id": "829d7a2b-388e-4667-a0cf-208a57d61daa",
   "metadata": {},
   "outputs": [
    {
     "name": "stdout",
     "output_type": "stream",
     "text": [
      "print desde jupiter notebook\n"
     ]
    }
   ],
   "source": [
    "print('print desde jupiter notebook')"
   ]
  },
  {
   "cell_type": "code",
   "execution_count": null,
   "id": "74a75824-41bf-4d03-b93c-02c8369fefbb",
   "metadata": {},
   "outputs": [],
   "source": []
  }
 ],
 "metadata": {
  "kernelspec": {
   "display_name": "Python 3 (ipykernel)",
   "language": "python",
   "name": "python3"
  },
  "language_info": {
   "codemirror_mode": {
    "name": "ipython",
    "version": 3
   },
   "file_extension": ".py",
   "mimetype": "text/x-python",
   "name": "python",
   "nbconvert_exporter": "python",
   "pygments_lexer": "ipython3",
   "version": "3.11.3"
  }
 },
 "nbformat": 4,
 "nbformat_minor": 5
}
