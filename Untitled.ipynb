{
 "cells": [
  {
   "cell_type": "code",
   "execution_count": 2,
   "id": "4266d746-3fd0-4e77-9552-b0de2b0c9b7b",
   "metadata": {},
   "outputs": [
    {
     "name": "stdout",
     "output_type": "stream",
     "text": [
      "0        CRIANZA ENGORDA Y COMERCIALIZADORA DE TRUCHAS ...\n",
      "1                        DESARROLLO ECOTURISTICO 3 PIEDRAS\n",
      "2                                            EL POLVORIN 2\n",
      "3                           GRANJA DE TRUCHAS EL POLVORIN \n",
      "4                      GRANJA DE TRUCHAS RANCHO EL PARAISO\n",
      "                               ...                        \n",
      "16238                    SUPERVISIÓN GENERAL DEL SECTOR 14\n",
      "16239           SUPERVISION GENERAL SEXTO SECTOR EDUCATIVO\n",
      "16240                              SUPERVISIÓN ISFIZ 0192B\n",
      "16241                                TENENCIA DE LA TIERRA\n",
      "16242                                     TRANSITO ESTATAL\n",
      "Name: Nombre_de_la_Unidad_Económica, Length: 16243, dtype: object\n"
     ]
    }
   ],
   "source": [
    "import numpy as np\n",
    "import pandas as pd\n",
    "import matplotlib.pyplot as plt\n",
    "\n",
    "#load\n",
    "df = pd.read_csv(\"./querys/crecimientoNicolasRomero.csv\")\n",
    "names = df['Nombre_de_la_Unidad_Económica']\n",
    "names.set_option(\"display.max.columns\", None)\n",
    "print(names)"
   ]
  },
  {
   "cell_type": "code",
   "execution_count": null,
   "id": "101ca153-a90a-4577-b5ac-78512f3e08dd",
   "metadata": {},
   "outputs": [],
   "source": []
  }
 ],
 "metadata": {
  "kernelspec": {
   "display_name": "Python 3 (ipykernel)",
   "language": "python",
   "name": "python3"
  },
  "language_info": {
   "codemirror_mode": {
    "name": "ipython",
    "version": 3
   },
   "file_extension": ".py",
   "mimetype": "text/x-python",
   "name": "python",
   "nbconvert_exporter": "python",
   "pygments_lexer": "ipython3",
   "version": "3.11.3"
  }
 },
 "nbformat": 4,
 "nbformat_minor": 5
}
